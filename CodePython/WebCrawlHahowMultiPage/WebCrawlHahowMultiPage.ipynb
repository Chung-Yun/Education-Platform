{
  "nbformat": 4,
  "nbformat_minor": 0,
  "metadata": {
    "kernelspec": {
      "display_name": "Python 3",
      "language": "python",
      "name": "python3"
    },
    "language_info": {
      "codemirror_mode": {
        "name": "ipython",
        "version": 3
      },
      "file_extension": ".py",
      "mimetype": "text/x-python",
      "name": "python",
      "nbconvert_exporter": "python",
      "pygments_lexer": "ipython3",
      "version": "3.8.3"
    },
    "colab": {
      "name": "差在sleep有問題.ipynb",
      "provenance": [],
      "collapsed_sections": [],
      "include_colab_link": true
    }
  },
  "cells": [
    {
      "cell_type": "markdown",
      "metadata": {
        "id": "view-in-github",
        "colab_type": "text"
      },
      "source": [
        "<a href=\"https://colab.research.google.com/github/Chung-Yun/Education-Platform/blob/main/%E5%B7%AE%E5%9C%A8sleep%E6%9C%89%E5%95%8F%E9%A1%8C_debug.ipynb\" target=\"_parent\"><img src=\"https://colab.research.google.com/assets/colab-badge.svg\" alt=\"Open In Colab\"/></a>"
      ]
    },
    {
      "cell_type": "code",
      "metadata": {
        "colab": {
          "base_uri": "https://localhost:8080/"
        },
        "id": "AplpujnTn7KD",
        "outputId": "c1ddcbb2-4752-4b15-e067-b15e3829c87a"
      },
      "source": [
        "#2020/12/08 除錯留檔版\n",
        "import requests\n",
        "from bs4 import BeautifulSoup\n",
        "import time\n",
        "from selenium import webdriver\n",
        "\n",
        "chrome_options = webdriver.ChromeOptions()\n",
        "chrome_options.add_argument('--headless')\n",
        "chrome_options.add_argument('--no-sandbox')\n",
        "chrome_options.add_argument('--disable-dev-shm-usage')\n",
        "mydriver = webdriver.Chrome('chromedriver', options=chrome_options)\n",
        "\n",
        "page = 1\n",
        "while (page <= 2):\n",
        "    url = 'https://hahow.in/courses?search=python&page='+str(page)\n",
        "    gettingurl = mydriver.get(url)\n",
        "    print(\"資料爬起來!\")\n",
        "    time.sleep(3)\n",
        "    source = mydriver.page_source\n",
        "    soup = BeautifulSoup(source, 'html.parser')\n",
        "    \n",
        "    class_block = soup.find_all('div',class_=\"sc-10r5mg2-0 fVNHJD hh-course-brief relative block\")\n",
        "    print(class_block)\n",
        "    for class_ in class_block :\n",
        "        class_href = class_.find('div','cover-wrap relative').find('a')\n",
        "        class_url ='https://hahow.in'+ class_href.get('href')\n",
        "        response = mydriver.get(class_url)\n",
        "        time.sleep(3)\n",
        "        response_source = mydriver.page_source\n",
        "        response_soup= BeautifulSoup(response_source, 'html.parser')\n",
        "        title = response_soup.find('h1').text\n",
        "        print(title)\n",
        "        print(class_url)\n",
        "#以下有問題(判斷不成功)\n",
        "        if 'Python' in title :\n",
        "            seeMoreButton = mydriver.find_elements_by_xpath(\"//button[@class='sc-1a6j6ze-0 cYdxxq b21euj-2 gMMXlv']\")\n",
        "            if len(seeMoreButton) != 0 :\n",
        "                press = seeMoreButton[0]\n",
        "                press.click()\n",
        "            comments= response_soup.find_all('div',class_='wei2cc-1 gUylJK marg-b-25')\n",
        "            count = 1\n",
        "            for comment in comments :\n",
        "                print('-----------'+ str(count)+ '-----------')\n",
        "                point = comment.find('p',class_='marg-b-0').text\n",
        "                rating = comment.find('div',{'class':'star-ratings'})\n",
        "                stars = rating.attrs['title']\n",
        "                course_time = comment.find('time').text\n",
        "                shortTitle = comment.find('p',{'class':'text-strong marg-b-5'}).text\n",
        "                print(stars, course_time, shortTitle)\n",
        "                print(point.strip())\n",
        "                count += 1\n",
        "    page += 1"
      ],
      "execution_count": null,
      "outputs": [
        {
          "output_type": "stream",
          "text": [
            "資料爬起來!\n",
            "[]\n",
            "資料爬起來!\n",
            "[]\n"
          ],
          "name": "stdout"
        }
      ]
    }
  ]
}